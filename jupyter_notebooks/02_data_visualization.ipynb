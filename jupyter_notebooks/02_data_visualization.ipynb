{
 "cells": [
  {
   "cell_type": "markdown",
   "id": "7eb99a70",
   "metadata": {},
   "source": [
    "# Data Visualization\n",
    "\n",
    "## Objectives\n",
    "\n",
    "This notebook addresses **Business Requirement 1**:  \n",
    "*Provide visual differentiation between healthy and mildew-affected cherry leaves.*\n",
    "\n",
    "---\n",
    "\n",
    "## Inputs (datasets)\n",
    "\n",
    "- `inputs/mildew_dataset/cherry-leaves/train`\n",
    "- `inputs/mildew_dataset/cherry-leaves/validation`\n",
    "- `inputs/mildew_dataset/cherry-leaves/test`\n",
    "\n",
    "---\n",
    "\n",
    "## Outputs\n",
    "\n",
    "### Dataset Overview\n",
    "\n",
    "First we will get a statistical representation of the data. This includes:\n",
    "- a total image count and class distribution (healthy or infected)\n",
    "- we will show random sample images in a montage to give a visual of the dataset quality\n",
    "\n",
    "### Image Statistics & Analysis\n",
    "- Average image dimensions for preprocessing standardization\n",
    "- Statistical comparison of grayscales between healthy and infected class (t-Test) maybe\n",
    "- Visual analysis of class separation using Principal Component Analysis (PCA)\n",
    "\n",
    "### Generated data\n",
    "- pkl file to store Stores the averaged image dimensions, used to standardize input sizes during preprocessing.\n",
    "- Visualizations: Key plots and graphics saved for later use in the Streamlit dashboard to support interactive data exploration."
   ]
  },
  {
   "cell_type": "markdown",
   "id": "99db8377",
   "metadata": {},
   "source": [
    "# Import notebook packages"
   ]
  },
  {
   "cell_type": "code",
   "execution_count": 1,
   "id": "a36efa3d",
   "metadata": {},
   "outputs": [],
   "source": [
    "import os\n",
    "import sys\n",
    "import numpy as np\n",
    "\n",
    "# Add the ressource directory to our path to be able to load relevant functions\n",
    "sys.path.append('./src')"
   ]
  },
  {
   "cell_type": "markdown",
   "id": "efcbad74",
   "metadata": {},
   "source": [
    "## Set working directory and file path architecture for notebook\n",
    "As the notebooks are set in a subfolder of this repo we need to adjust the working directory so files can be accessed properly. \n",
    "\n",
    "First we check our current working directory."
   ]
  },
  {
   "cell_type": "code",
   "execution_count": 2,
   "id": "d3485043",
   "metadata": {},
   "outputs": [
    {
     "data": {
      "text/plain": [
       "'e:\\\\Projects\\\\Code-I\\\\vscode-projects\\\\PP5-predictive_analysis\\\\jupyter_notebooks'"
      ]
     },
     "execution_count": 2,
     "metadata": {},
     "output_type": "execute_result"
    }
   ],
   "source": [
    "current_dir = os.getcwd()\n",
    "current_dir"
   ]
  },
  {
   "cell_type": "markdown",
   "id": "e325a56d",
   "metadata": {},
   "source": [
    "Now we can change the directory to the parent folder that contains the complete repo. We will also print our new working directory so we can check everything worked out as planned."
   ]
  },
  {
   "cell_type": "code",
   "execution_count": 3,
   "id": "4941b093",
   "metadata": {},
   "outputs": [
    {
     "name": "stdout",
     "output_type": "stream",
     "text": [
      "Working directory set to: e:\\Projects\\Code-I\\vscode-projects\\PP5-predictive_analysis\n"
     ]
    }
   ],
   "source": [
    "# Only change the directory if not already at the repo root\n",
    "current_dir = os.getcwd()\n",
    "target_dir = os.path.abspath(os.path.join(current_dir, os.pardir))  # One level up\n",
    "\n",
    "# Check if we're already in the repo root\n",
    "if os.path.basename(current_dir) == 'jupyter_notebooks':\n",
    "    os.chdir(target_dir)\n",
    "    current_dir = os.getcwd()\n",
    "    print(f\"Working directory set to: {os.getcwd()}\")\n",
    "else:\n",
    "    print(f\"Current working directory remains: {current_dir}\")"
   ]
  },
  {
   "cell_type": "markdown",
   "id": "03ff00cb",
   "metadata": {},
   "source": [
    "## Define data directory"
   ]
  },
  {
   "cell_type": "code",
   "execution_count": 4,
   "id": "8e9437b6",
   "metadata": {},
   "outputs": [],
   "source": [
    "# define variable for data directory\n",
    "data_dir = os.path.join(os.getcwd(), 'inputs/datasets/raw/cherry-leaves')\n",
    "# define variable for train set directory\n",
    "train_dir = os.path.join(data_dir, 'train')\n",
    "# define variable for test set directory\n",
    "test_dir = os.path.join(data_dir, 'test')\n",
    "# define variable for test set directory\n",
    "val_dir = os.path.join(data_dir, 'validation')"
   ]
  },
  {
   "cell_type": "markdown",
   "id": "91bb29db",
   "metadata": {},
   "source": [
    "## Check directory integrity"
   ]
  },
  {
   "cell_type": "code",
   "execution_count": 5,
   "id": "683431a5",
   "metadata": {},
   "outputs": [
    {
     "name": "stdout",
     "output_type": "stream",
     "text": [
      "'healthy' in 'train' is valid with 1472 images.\n",
      "'diseased' in 'train' is valid with 1472 images.\n",
      "'healthy' in 'test' is valid with 317 images.\n",
      "'diseased' in 'test' is valid with 317 images.\n",
      "'healthy' in 'validation' is valid with 315 images.\n",
      "'diseased' in 'validation' is valid with 315 images.\n"
     ]
    }
   ],
   "source": [
    "from exploration_visualization import check_structure\n",
    "# Define the sets and labels for the dataset structure checkup\n",
    "sets = ['train', 'test', 'validation']\n",
    "labels = ['healthy', 'diseased']\n",
    "# Check the integrity of the dataset structure\n",
    "check_structure(data_dir, sets, labels)"
   ]
  },
  {
   "cell_type": "markdown",
   "id": "87f76c39",
   "metadata": {},
   "source": [
    "## Define the output directory\n",
    "\n",
    "\n"
   ]
  },
  {
   "cell_type": "code",
   "execution_count": 6,
   "id": "7b1a804e",
   "metadata": {},
   "outputs": [
    {
     "name": "stdout",
     "output_type": "stream",
     "text": [
      "Created output directory: 'e:\\Projects\\Code-I\\vscode-projects\\PP5-predictive_analysis\\outputs\\v1'\n"
     ]
    }
   ],
   "source": [
    "# Set the current version\n",
    "version = 'v1'\n",
    "# Define the  directory\n",
    "output_dir = os.path.join(current_dir, 'outputs', version)\n",
    "\n",
    "# Check if the versioned output directory already exists\n",
    "if os.path.exists(output_dir):\n",
    "    print(f\"Output directory '{output_dir}' already exists. \"\n",
    "          \"Please create a new version.\")\n",
    "else:\n",
    "    os.makedirs(output_dir)\n",
    "    print(f\"Created output directory: '{output_dir}'\")"
   ]
  }
 ],
 "metadata": {
  "kernelspec": {
   "display_name": ".venv",
   "language": "python",
   "name": "python3"
  },
  "language_info": {
   "codemirror_mode": {
    "name": "ipython",
    "version": 3
   },
   "file_extension": ".py",
   "mimetype": "text/x-python",
   "name": "python",
   "nbconvert_exporter": "python",
   "pygments_lexer": "ipython3",
   "version": "3.12.1"
  }
 },
 "nbformat": 4,
 "nbformat_minor": 5
}
