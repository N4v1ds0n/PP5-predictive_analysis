{
 "cells": [
  {
   "cell_type": "markdown",
   "id": "7fc9ffad",
   "metadata": {},
   "source": [
    "# *Data collection Notebook*\n",
    "\n",
    "## Contents and purpose\n",
    "\n",
    "- Import packages\n",
    "- set up directory and path structure\n",
    "- Load raw data from Kaggle and save it to repo\n",
    "- sift through the data and process/ save it respectively\n",
    "- clean data\n",
    "- create train, test and validation sets\n",
    "\n",
    "## Important files\n",
    "\n",
    "- kaggle JSON file is a personal authentication token, if this repo is forked and reproduced, it needs to be replaced by an individual file.\n",
    "\n",
    "## Expected Results\n",
    "\n",
    "- we will receive the necessary data for the subsequent notebooks\n",
    "    - a train set to train our models\n",
    "    - a test set\n",
    "    - a validation set\n",
    "- each set will have healthy and afflicted sample images\n",
    "\n",
    "## Why are we doing this\n",
    "\n",
    "These steps are common practice for the necessary preparation of data sets for machine learning.\n"
   ]
  },
  {
   "cell_type": "markdown",
   "id": "1d87c140",
   "metadata": {},
   "source": [
    "# Install/ Import packages necessary for this notebook\n",
    "\n",
    "- if you have created your working environment based on the requirements.txt file, you can skip the next step, as the requirements will already be satisfied. If not, you cann install the necessary packages now."
   ]
  },
  {
   "cell_type": "code",
   "execution_count": null,
   "id": "b3255f0e",
   "metadata": {},
   "outputs": [],
   "source": [
    "! pip install -r ../requirements.txt"
   ]
  },
  {
   "cell_type": "markdown",
   "id": "44f1c96f",
   "metadata": {},
   "source": [
    "Now you can import the packages that will be needed in this notebook."
   ]
  },
  {
   "cell_type": "code",
   "execution_count": null,
   "id": "effd5a79",
   "metadata": {},
   "outputs": [],
   "source": [
    "import os\n",
    "import numpy\n"
   ]
  },
  {
   "cell_type": "markdown",
   "id": "b65bebd6",
   "metadata": {},
   "source": [
    "## Set working directory and file path architecture for notebook\n",
    "As the notebooks are set in a subfolder of this repo we need to adjust the working directory so files can be accessed properly. \n",
    "\n",
    "First we check our current working directory."
   ]
  },
  {
   "cell_type": "code",
   "execution_count": null,
   "id": "599ab9fb",
   "metadata": {},
   "outputs": [],
   "source": [
    "\n",
    "current_dir = os.getcwd()\n",
    "current_dir"
   ]
  },
  {
   "cell_type": "markdown",
   "id": "edb3a592",
   "metadata": {},
   "source": [
    "Now we can change the directory to the parent folder that contains the complete repo. We will also print our new working directory so we can check everything worked out as planned."
   ]
  },
  {
   "cell_type": "code",
   "execution_count": null,
   "id": "ef4bedca",
   "metadata": {},
   "outputs": [],
   "source": [
    "os.chdir('../')\n",
    "print(\"You set a new current directory:\")\n",
    "print(os.getcwd())"
   ]
  },
  {
   "cell_type": "markdown",
   "id": "2d853810",
   "metadata": {},
   "source": []
  },
  {
   "cell_type": "code",
   "execution_count": null,
   "id": "6bb06e61",
   "metadata": {},
   "outputs": [],
   "source": [
    "\n",
    "\n"
   ]
  }
 ],
 "metadata": {
  "kernelspec": {
   "display_name": ".venv",
   "language": "python",
   "name": "python3"
  },
  "language_info": {
   "codemirror_mode": {
    "name": "ipython",
    "version": 3
   },
   "file_extension": ".py",
   "mimetype": "text/x-python",
   "name": "python",
   "nbconvert_exporter": "python",
   "pygments_lexer": "ipython3",
   "version": "3.12.1"
  }
 },
 "nbformat": 4,
 "nbformat_minor": 5
}
